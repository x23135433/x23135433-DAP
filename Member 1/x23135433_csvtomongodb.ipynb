{
 "cells": [
  {
   "cell_type": "code",
   "execution_count": 1,
   "id": "7ae95ca1-e7a1-417e-a2e1-f00ad666f523",
   "metadata": {},
   "outputs": [],
   "source": [
    "#importing the libraries\n",
    "import pandas as pd\n",
    "from pymongo import MongoClient\n",
    "client = MongoClient(\"mongodb://%s:%s@127.0.0.1\" % (\"dap\", \"dap\"))"
   ]
  },
  {
   "cell_type": "code",
   "execution_count": 2,
   "id": "889ea9d2-99e7-48cd-b360-92ccc8b369e5",
   "metadata": {},
   "outputs": [],
   "source": [
    "#creating a client named Health_Condition\n",
    "db = client['Health_Condition']"
   ]
  },
  {
   "cell_type": "code",
   "execution_count": 3,
   "id": "caf0c10a-fe1f-4929-8417-976bd90a8a19",
   "metadata": {},
   "outputs": [],
   "source": [
    "#creating a collection named 'Health_Condition' within the 'Health_Condition' MongoDB database\n",
    "collection = db['Health_Condition']"
   ]
  },
  {
   "cell_type": "code",
   "execution_count": 4,
   "id": "52aea1b8-d69f-4963-b8ef-fe3160f97bdd",
   "metadata": {},
   "outputs": [],
   "source": [
    "# Specifying the name of the MongoDB database and collection\n",
    "database_name = \"Health_Condition\"\n",
    "collection_name = \"Health_Condition_1\"\n",
    " \n",
    "#Creating a MongoDB client instance and connecting to the MongoDB server \n",
    "client = MongoClient(\"mongodb://%s:%s@127.0.0.1\" % (\"dap\", \"dap\"))\n"
   ]
  },
  {
   "cell_type": "code",
   "execution_count": 5,
   "id": "92c2c396-f9ec-4533-83a0-b84b32bf3177",
   "metadata": {},
   "outputs": [],
   "source": [
    "#Accessing the specified MongoDB database collection using the MongoDB client and the database name and collection name\n",
    "db = client[database_name]\n",
    "collection = db[collection_name]\n",
    "#Specifying my csv file path\n",
    "csv_file_path = 'Health_Condition.csv'\n",
    "#Reading the csv file\n",
    "df = pd.read_csv(csv_file_path)\n",
    " \n",
    "# Converting DataFrame to a list of dictionaries\n",
    "records = df.to_dict(orient='records')\n",
    " \n",
    "# Inserting data into MongoDB collection\n",
    "collection.insert_many(records)\n",
    " \n",
    "# Closing the MongoDB connection\n",
    "client.close()\n",
    "\n"
   ]
  },
  {
   "cell_type": "code",
   "execution_count": 6,
   "id": "2c1873be-4db8-4155-b1e4-1ab7d6117a17",
   "metadata": {},
   "outputs": [
    {
     "data": {
      "text/plain": [
       "<bound method DataFrame.info of                                            measures  \\\n",
       "0     Health conditions among children under age 18   \n",
       "1     Health conditions among children under age 18   \n",
       "2     Health conditions among children under age 18   \n",
       "3     Health conditions among children under age 18   \n",
       "4     Health conditions among children under age 18   \n",
       "...                                             ...   \n",
       "2511  Health conditions among children under age 18   \n",
       "2512  Health conditions among children under age 18   \n",
       "2513  Health conditions among children under age 18   \n",
       "2514  Health conditions among children under age 18   \n",
       "2515  Health conditions among children under age 18   \n",
       "\n",
       "                                            panel  panel_num  \\\n",
       "0               ADHD among persons under 18 years          3   \n",
       "1               ADHD among persons under 18 years          3   \n",
       "2               ADHD among persons under 18 years          3   \n",
       "3     Current asthma among persons under 18 years          1   \n",
       "4     Current asthma among persons under 18 years          1   \n",
       "...                                           ...        ...   \n",
       "2511  Ear infections among persons under 18 years          8   \n",
       "2512  Ear infections among persons under 18 years          8   \n",
       "2513  Ear infections among persons under 18 years          8   \n",
       "2514  Ear infections among persons under 18 years          8   \n",
       "2515  Ear infections among persons under 18 years          8   \n",
       "\n",
       "                            unit  unit_num  \\\n",
       "0     Percent of children, crude         1   \n",
       "1     Percent of children, crude         1   \n",
       "2     Percent of children, crude         1   \n",
       "3     Percent of children, crude         1   \n",
       "4     Percent of children, crude         1   \n",
       "...                          ...       ...   \n",
       "2511  Percent of children, crude         1   \n",
       "2512  Percent of children, crude         1   \n",
       "2513  Percent of children, crude         1   \n",
       "2514  Percent of children, crude         1   \n",
       "2515  Percent of children, crude         1   \n",
       "\n",
       "                                             stub_name  stub_name_num  \\\n",
       "0                                                  Age              1   \n",
       "1                                                  Age              1   \n",
       "2                                                  Age              1   \n",
       "3                                                Total              0   \n",
       "4                                                Total              0   \n",
       "...                                                ...            ...   \n",
       "2511  Health insurance status at the time of interview              6   \n",
       "2512  Health insurance status at the time of interview              6   \n",
       "2513  Health insurance status at the time of interview              6   \n",
       "2514  Health insurance status at the time of interview              6   \n",
       "2515  Health insurance status at the time of interview              6   \n",
       "\n",
       "          stub_label  stub_label_num      years  years_num             age  \\\n",
       "0        10-17 years            1.22  1997-1999          1     10-17 years   \n",
       "1        10-17 years            1.22  2000-2002          2     10-17 years   \n",
       "2        10-17 years            1.22  2003-2005          3     10-17 years   \n",
       "3     Under 18 years            0.00  2003-2005          3  Under 18 years   \n",
       "4     Under 18 years            0.00  2006-2008          4  Under 18 years   \n",
       "...              ...             ...        ...        ...             ...   \n",
       "2511       Uninsured            6.20  2012-2014         10  Under 18 years   \n",
       "2512       Uninsured            6.20  2013-2015         11  Under 18 years   \n",
       "2513       Uninsured            6.20  2014-2016         12  Under 18 years   \n",
       "2514       Uninsured            6.20  2015-2017         13  Under 18 years   \n",
       "2515       Uninsured            6.20  2016-2018         14  Under 18 years   \n",
       "\n",
       "      age_num  estimate   se  \n",
       "0         2.2       7.6  0.2  \n",
       "1         2.2       9.0  0.3  \n",
       "2         2.2       8.9  0.3  \n",
       "3         0.0       8.7  0.2  \n",
       "4         0.0       9.3  0.2  \n",
       "...       ...       ...  ...  \n",
       "2511      0.0       4.4  0.5  \n",
       "2512      0.0       4.4  0.6  \n",
       "2513      0.0       3.6  0.5  \n",
       "2514      0.0       3.2  0.6  \n",
       "2515      0.0       2.9  0.6  \n",
       "\n",
       "[2516 rows x 15 columns]>"
      ]
     },
     "execution_count": 6,
     "metadata": {},
     "output_type": "execute_result"
    }
   ],
   "source": [
    "#Displaying information about the structure and data types of the DataFrame \n",
    "df.info"
   ]
  },
  {
   "cell_type": "code",
   "execution_count": 7,
   "id": "ae94de7e-bedb-4e1a-8f37-e1295573b040",
   "metadata": {},
   "outputs": [
    {
     "data": {
      "text/plain": [
       "measures          0\n",
       "panel             0\n",
       "panel_num         0\n",
       "unit              0\n",
       "unit_num          0\n",
       "stub_name         0\n",
       "stub_name_num     0\n",
       "stub_label        0\n",
       "stub_label_num    0\n",
       "years             0\n",
       "years_num         0\n",
       "age               0\n",
       "age_num           0\n",
       "estimate          0\n",
       "se                0\n",
       "dtype: int64"
      ]
     },
     "execution_count": 7,
     "metadata": {},
     "output_type": "execute_result"
    }
   ],
   "source": [
    "#checking for the missing values\n",
    "missing_values = df.isnull().sum()\n",
    "\n",
    "(missing_values)\n"
   ]
  }
 ],
 "metadata": {
  "kernelspec": {
   "display_name": "Python 3 (ipykernel)",
   "language": "python",
   "name": "python3"
  },
  "language_info": {
   "codemirror_mode": {
    "name": "ipython",
    "version": 3
   },
   "file_extension": ".py",
   "mimetype": "text/x-python",
   "name": "python",
   "nbconvert_exporter": "python",
   "pygments_lexer": "ipython3",
   "version": "3.11.8"
  }
 },
 "nbformat": 4,
 "nbformat_minor": 5
}
